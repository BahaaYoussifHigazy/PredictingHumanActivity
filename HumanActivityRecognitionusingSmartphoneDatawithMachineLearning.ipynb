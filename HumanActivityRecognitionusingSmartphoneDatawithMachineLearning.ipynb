{
 "cells": [
  {
   "cell_type": "code",
   "execution_count": null,
   "id": "b284a587-884a-4ee4-a379-a01c301b017f",
   "metadata": {},
   "outputs": [],
   "source": [
    "import pandas as pd\n",
    "import numpy as np\n",
    "import seaborn as sns\n",
    "import matplotlib.pyplot as plt\n",
    "%matplotlib inline\n",
    "import warnings\n",
    "warnings.filterwarnings(\"ignore\")"
   ]
  },
  {
   "cell_type": "code",
   "execution_count": null,
   "id": "8af2ebe0-9057-49cc-ac29-2fc96c253c97",
   "metadata": {},
   "outputs": [],
   "source": [
    "train = pd.read_csv(\"train.csv\")\n",
    "test = pd.read_csv(\"test.csv\")"
   ]
  },
  {
   "cell_type": "code",
   "execution_count": null,
   "id": "d1371970-8ed8-4696-9943-6c423d8ce87a",
   "metadata": {},
   "outputs": [],
   "source": [
    "train['Data'] = 'Train'\n",
    "test['Data'] = 'Test'\n",
    "both = pd.concat([train, test], axis=0).reset_index(drop=True)\n",
    "both['subject'] = '#' + both['subject'].astype(str)\n",
    "train.shape, test.shape"
   ]
  },
  {
   "cell_type": "code",
   "execution_count": null,
   "id": "7d41aafb-804b-4e1c-a114-b7af90edf13c",
   "metadata": {},
   "outputs": [],
   "source": [
    "both.head()"
   ]
  },
  {
   "cell_type": "code",
   "execution_count": null,
   "id": "6b4953fb-19c9-4615-9141-58f534ba3b8a",
   "metadata": {},
   "outputs": [],
   "source": [
    "both.dtypes.value_counts()"
   ]
  },
  {
   "cell_type": "code",
   "execution_count": null,
   "id": "8f58d345-c4c8-4024-b9bc-c3cd0dc0c866",
   "metadata": {},
   "outputs": [],
   "source": [
    "def basic_details(df):\n",
    "    b = pd.DataFrame()\n",
    "    b['Missing value'] = df.isnull().sum()\n",
    "    b['N unique value'] = df.nunique()\n",
    "    b['dtype'] = df.dtypes\n",
    "    return b\n",
    "basic_details(both)"
   ]
  },
  {
   "cell_type": "code",
   "execution_count": null,
   "id": "ed101831-55b6-417b-9c51-41c032a2ad19",
   "metadata": {},
   "outputs": [],
   "source": [
    "activity = both['Activity']\n",
    "label_counts = activity.value_counts()\n",
    "\n",
    "plt.figure(figsize= (12, 8))\n",
    "plt.bar(label_counts.index, label_counts)"
   ]
  },
  {
   "cell_type": "code",
   "execution_count": null,
   "id": "3814e97c-19df-459d-aa86-8b4035e38dee",
   "metadata": {},
   "outputs": [],
   "source": [
    "Data = both['Data']\n",
    "Subject = both['subject']\n",
    "train = both.copy()\n",
    "train = train.drop(['Data','subject','Activity'], axis =1)"
   ]
  },
  {
   "cell_type": "code",
   "execution_count": null,
   "id": "9afc6ae2-96ce-4f7b-aaab-26e6b1224271",
   "metadata": {},
   "outputs": [],
   "source": [
    "# Standard Scaler\n",
    "from sklearn.preprocessing import StandardScaler\n",
    "slc = StandardScaler()\n",
    "train = slc.fit_transform(train)\n",
    "\n",
    "# dimensionality reduction\n",
    "from sklearn.decomposition import PCA\n",
    "pca = PCA(n_components=0.9, random_state=0)\n",
    "train = pca.fit_transform(train)"
   ]
  },
  {
   "cell_type": "code",
   "execution_count": null,
   "id": "03315ac9-7e3e-4072-8070-570dc56ffa85",
   "metadata": {},
   "outputs": [],
   "source": [
    "from sklearn.model_selection import train_test_split\n",
    "X_train, X_test, y_train, y_test = train_test_split(train, activity, test_size = 0.2, random_state = 0)"
   ]
  },
  {
   "cell_type": "code",
   "execution_count": null,
   "id": "c7d04a1e-15c3-41be-afc3-5c7d7129aaf4",
   "metadata": {},
   "outputs": [],
   "source": [
    "num_folds = 10\n",
    "seed = 0\n",
    "scoring = 'accuracy'\n",
    "results = {}\n",
    "accuracy = {}"
   ]
  },
  {
   "cell_type": "code",
   "execution_count": null,
   "id": "75213fc7-f107-470a-9af7-a9853150f251",
   "metadata": {},
   "outputs": [],
   "source": [
    "# Finalizing the model and comparing the test, predict results\n",
    "from sklearn.neighbors import KNeighborsClassifier\n",
    "from sklearn.metrics import confusion_matrix, accuracy_score, classification_report\n",
    "from sklearn.model_selection import KFold, cross_val_score\n",
    "model = KNeighborsClassifier(algorithm= 'auto', n_neighbors= 8, p= 1, weights= 'distance')\n",
    "\n",
    "_ = cross_val_score(model, X_train, y_train, cv=10, scoring=scoring)\n",
    "results[\"GScv\"] = (_.mean(), _.std())\n",
    "\n",
    "model.fit(X_train, y_train) \n",
    "y_predict = model.predict(X_test)\n",
    "\n",
    "accuracy[\"GScv\"] = accuracy_score(y_test, y_predict)\n",
    "\n",
    "print(classification_report(y_test, y_predict))\n",
    "\n",
    "cm= confusion_matrix(y_test, y_predict)\n",
    "sns.heatmap(cm, annot=True)"
   ]
  }
 ],
 "metadata": {
  "kernelspec": {
   "display_name": "Python 3",
   "language": "python",
   "name": "python3"
  },
  "language_info": {
   "codemirror_mode": {
    "name": "ipython",
    "version": 3
   },
   "file_extension": ".py",
   "mimetype": "text/x-python",
   "name": "python",
   "nbconvert_exporter": "python",
   "pygments_lexer": "ipython3",
   "version": "3.8.8"
  }
 },
 "nbformat": 4,
 "nbformat_minor": 5
}
